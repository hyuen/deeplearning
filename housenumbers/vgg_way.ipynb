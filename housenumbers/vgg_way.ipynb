{
 "cells": [
  {
   "cell_type": "code",
   "execution_count": 1,
   "metadata": {},
   "outputs": [
    {
     "name": "stderr",
     "output_type": "stream",
     "text": [
      "Using Theano backend.\n",
      "/home/hyz/.virtualenvs/myenv2/local/lib/python2.7/site-packages/theano/gpuarray/dnn.py:135: UserWarning: Your cuDNN version is more recent than Theano. If you encounter problems, try updating Theano or downgrading cuDNN to version 5.1.\n",
      "  warnings.warn(\"Your cuDNN version is more recent than \"\n",
      "Using cuDNN version 7001 on context None\n",
      "Mapped name None to device cuda0: GeForce GTX 960M (0000:01:00.0)\n"
     ]
    }
   ],
   "source": [
    "import keras\n",
    "from keras.applications import vgg16\n",
    "from keras.models import Model\n",
    "from keras.layers import Input, Flatten, Dense\n",
    "import numpy as np"
   ]
  },
  {
   "cell_type": "code",
   "execution_count": 2,
   "metadata": {
    "collapsed": true
   },
   "outputs": [],
   "source": [
    "model = vgg16.VGG16(weights='imagenet', include_top=False)\n",
    "for l in model.layers:\n",
    "    l.trainable=False"
   ]
  },
  {
   "cell_type": "code",
   "execution_count": 3,
   "metadata": {},
   "outputs": [
    {
     "data": {
      "text/plain": [
       "[<keras.engine.topology.InputLayer at 0x7fbda4d6db50>,\n",
       " <keras.layers.convolutional.Conv2D at 0x7fbda48b1e50>,\n",
       " <keras.layers.convolutional.Conv2D at 0x7fbda48b1e90>,\n",
       " <keras.layers.pooling.MaxPooling2D at 0x7fbda40be190>,\n",
       " <keras.layers.convolutional.Conv2D at 0x7fbda40bea90>,\n",
       " <keras.layers.convolutional.Conv2D at 0x7fbd9f7d4d90>,\n",
       " <keras.layers.pooling.MaxPooling2D at 0x7fbd9f6f60d0>,\n",
       " <keras.layers.convolutional.Conv2D at 0x7fbd9f6f6990>,\n",
       " <keras.layers.convolutional.Conv2D at 0x7fbd9cbcac10>,\n",
       " <keras.layers.convolutional.Conv2D at 0x7fbde8388f90>,\n",
       " <keras.layers.pooling.MaxPooling2D at 0x7fbd9ca7a450>,\n",
       " <keras.layers.convolutional.Conv2D at 0x7fbd9c9ff590>,\n",
       " <keras.layers.convolutional.Conv2D at 0x7fbd9ca091d0>,\n",
       " <keras.layers.convolutional.Conv2D at 0x7fbd9c977a50>,\n",
       " <keras.layers.pooling.MaxPooling2D at 0x7fbd9c93ce50>,\n",
       " <keras.layers.convolutional.Conv2D at 0x7fbd9c880690>,\n",
       " <keras.layers.convolutional.Conv2D at 0x7fbd9c8e2550>,\n",
       " <keras.layers.convolutional.Conv2D at 0x7fbd9c818690>,\n",
       " <keras.layers.pooling.MaxPooling2D at 0x7fbd9c87b350>]"
      ]
     },
     "execution_count": 3,
     "metadata": {},
     "output_type": "execute_result"
    }
   ],
   "source": [
    "model.layers"
   ]
  },
  {
   "cell_type": "code",
   "execution_count": 4,
   "metadata": {},
   "outputs": [
    {
     "name": "stderr",
     "output_type": "stream",
     "text": [
      "/home/hyz/.virtualenvs/myenv2/lib/python2.7/site-packages/ipykernel_launcher.py:10: UserWarning: Update your `Model` call to the Keras 2 API: `Model(outputs=Softmax.0, inputs=/image_inp...)`\n",
      "  # Remove the CWD from sys.path while we load stuff.\n"
     ]
    }
   ],
   "source": [
    "input = Input(shape=(32,32,3), name='image_input')\n",
    "output_vgg16_conv = model(input)\n",
    "\n",
    "x = Flatten(name='flatten')(output_vgg16_conv)\n",
    "x = Dense(4096, activation='relu', name='fc1')(x)\n",
    "x = Dense(4096, activation='relu', name='fc2')(x)\n",
    "x = Dense(10, activation='softmax', name='predictions')(x)\n",
    "\n",
    "#Create your own model \n",
    "my_model = Model(input=input, output=x)"
   ]
  },
  {
   "cell_type": "code",
   "execution_count": null,
   "metadata": {
    "collapsed": true
   },
   "outputs": [],
   "source": []
  },
  {
   "cell_type": "code",
   "execution_count": 5,
   "metadata": {},
   "outputs": [
    {
     "name": "stdout",
     "output_type": "stream",
     "text": [
      "_________________________________________________________________\n",
      "Layer (type)                 Output Shape              Param #   \n",
      "=================================================================\n",
      "image_input (InputLayer)     (None, 32, 32, 3)         0         \n",
      "_________________________________________________________________\n",
      "vgg16 (Model)                multiple                  14714688  \n",
      "_________________________________________________________________\n",
      "flatten (Flatten)            (None, 512)               0         \n",
      "_________________________________________________________________\n",
      "fc1 (Dense)                  (None, 4096)              2101248   \n",
      "_________________________________________________________________\n",
      "fc2 (Dense)                  (None, 4096)              16781312  \n",
      "_________________________________________________________________\n",
      "predictions (Dense)          (None, 10)                40970     \n",
      "=================================================================\n",
      "Total params: 33,638,218\n",
      "Trainable params: 18,923,530\n",
      "Non-trainable params: 14,714,688\n",
      "_________________________________________________________________\n"
     ]
    }
   ],
   "source": [
    "my_model.summary()"
   ]
  },
  {
   "cell_type": "code",
   "execution_count": 6,
   "metadata": {},
   "outputs": [
    {
     "name": "stdout",
     "output_type": "stream",
     "text": [
      "(32, 32, 3, 73257) (73257, 1)\n",
      "(32, 32, 3, 73257) (73257,)\n",
      "_________________________________________________________________\n",
      "Layer (type)                 Output Shape              Param #   \n",
      "=================================================================\n",
      "image_input (InputLayer)     (None, 32, 32, 3)         0         \n",
      "_________________________________________________________________\n",
      "vgg16 (Model)                multiple                  14714688  \n",
      "_________________________________________________________________\n",
      "flatten (Flatten)            (None, 512)               0         \n",
      "_________________________________________________________________\n",
      "fc1 (Dense)                  (None, 4096)              2101248   \n",
      "_________________________________________________________________\n",
      "fc2 (Dense)                  (None, 4096)              16781312  \n",
      "_________________________________________________________________\n",
      "predictions (Dense)          (None, 10)                40970     \n",
      "=================================================================\n",
      "Total params: 33,638,218\n",
      "Trainable params: 18,923,530\n",
      "Non-trainable params: 14,714,688\n",
      "_________________________________________________________________\n",
      "None\n"
     ]
    }
   ],
   "source": [
    "import scipy.io as sio\n",
    "\n",
    "data = sio.loadmat('/home/hyz/prog/deeplearning/housenumbers/train_32x32.mat')\n",
    "\n",
    "x_train = data['X']\n",
    "y_train = data['y']\n",
    "print x_train.shape, y_train.shape\n",
    "\n",
    "y_train = y_train.reshape(y_train.shape[0]) - 1\n",
    "\n",
    "img_rows = 32\n",
    "img_cols = 32\n",
    "print x_train.shape, y_train.shape\n",
    "input_shape = (img_rows, img_cols, 3)\n",
    "x2 = np.array([x_train[:,:,:,i] for i in range(x_train.shape[-1])])\n",
    "x_train = x2\n",
    "num_classes = 10\n",
    "y_train = keras.utils.to_categorical(y_train, num_classes)\n",
    "\n",
    "opt = keras.optimizers.Adadelta(lr=0.001)\n",
    "my_model.compile(loss='categorical_crossentropy',\n",
    "              optimizer=opt,\n",
    "              metrics=['accuracy'])\n",
    "print my_model.summary()\n"
   ]
  },
  {
   "cell_type": "code",
   "execution_count": 7,
   "metadata": {},
   "outputs": [
    {
     "name": "stdout",
     "output_type": "stream",
     "text": [
      "Train on 65931 samples, validate on 7326 samples\n",
      "Epoch 1/10\n",
      "65931/65931 [==============================] - 76s - loss: 2.9654 - acc: 0.1994 - val_loss: 2.5466 - val_acc: 0.2536\n",
      "Epoch 2/10\n",
      "65931/65931 [==============================] - 77s - loss: 2.3477 - acc: 0.2903 - val_loss: 2.2547 - val_acc: 0.3093\n",
      "Epoch 3/10\n",
      "65931/65931 [==============================] - 78s - loss: 2.1348 - acc: 0.3374 - val_loss: 2.1111 - val_acc: 0.3392\n",
      "Epoch 4/10\n",
      "65931/65931 [==============================] - 80s - loss: 2.0110 - acc: 0.3659 - val_loss: 2.0170 - val_acc: 0.3564\n",
      "Epoch 5/10\n",
      "65931/65931 [==============================] - 80s - loss: 1.9251 - acc: 0.3873 - val_loss: 1.9482 - val_acc: 0.3699\n",
      "Epoch 6/10\n",
      "65931/65931 [==============================] - 81s - loss: 1.8598 - acc: 0.4050 - val_loss: 1.8940 - val_acc: 0.3832\n",
      "Epoch 7/10\n",
      "65931/65931 [==============================] - 82s - loss: 1.8069 - acc: 0.4200 - val_loss: 1.8515 - val_acc: 0.4002\n",
      "Epoch 8/10\n",
      "65931/65931 [==============================] - 83s - loss: 1.7633 - acc: 0.4307 - val_loss: 1.8169 - val_acc: 0.4077\n",
      "Epoch 9/10\n",
      "65931/65931 [==============================] - 84s - loss: 1.7256 - acc: 0.4417 - val_loss: 1.7867 - val_acc: 0.4167\n",
      "Epoch 10/10\n",
      "65931/65931 [==============================] - 84s - loss: 1.6931 - acc: 0.4504 - val_loss: 1.7593 - val_acc: 0.4262\n"
     ]
    },
    {
     "data": {
      "text/plain": [
       "<keras.callbacks.History at 0x7fbd61949350>"
      ]
     },
     "execution_count": 7,
     "metadata": {},
     "output_type": "execute_result"
    }
   ],
   "source": [
    "my_model.fit(x_train, y_train,\n",
    "             batch_size=128, epochs=10, verbose=1, validation_split=0.1,\n",
    "             shuffle=True)\n"
   ]
  },
  {
   "cell_type": "code",
   "execution_count": 8,
   "metadata": {},
   "outputs": [
    {
     "data": {
      "text/plain": [
       "['InceptionV3',\n",
       " 'MobileNet',\n",
       " 'ResNet50',\n",
       " 'VGG16',\n",
       " 'VGG19',\n",
       " 'Xception',\n",
       " '__builtins__',\n",
       " '__doc__',\n",
       " '__file__',\n",
       " '__name__',\n",
       " '__package__',\n",
       " '__path__',\n",
       " 'imagenet_utils',\n",
       " 'inception_v3',\n",
       " 'mobilenet',\n",
       " 'resnet50',\n",
       " 'vgg16',\n",
       " 'vgg19',\n",
       " 'xception']"
      ]
     },
     "execution_count": 8,
     "metadata": {},
     "output_type": "execute_result"
    }
   ],
   "source": [
    "dir(keras.applications)"
   ]
  },
  {
   "cell_type": "code",
   "execution_count": null,
   "metadata": {
    "collapsed": true
   },
   "outputs": [],
   "source": []
  }
 ],
 "metadata": {
  "kernelspec": {
   "display_name": "Python 2",
   "language": "python",
   "name": "python2"
  },
  "language_info": {
   "codemirror_mode": {
    "name": "ipython",
    "version": 2
   },
   "file_extension": ".py",
   "mimetype": "text/x-python",
   "name": "python",
   "nbconvert_exporter": "python",
   "pygments_lexer": "ipython2",
   "version": "2.7.12"
  }
 },
 "nbformat": 4,
 "nbformat_minor": 2
}
