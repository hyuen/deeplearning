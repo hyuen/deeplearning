{
 "cells": [
  {
   "cell_type": "code",
   "execution_count": 2,
   "metadata": {},
   "outputs": [
    {
     "name": "stderr",
     "output_type": "stream",
     "text": [
      "Using TensorFlow backend.\n"
     ]
    }
   ],
   "source": [
    "import tensorflow\n",
    "from scipy.optimize import root\n",
    "import numpy as np\n",
    "import matplotlib.pyplot as plt\n",
    "from scipy.spatial import distance\n",
    "from keras import models, optimizers, layers\n",
    "\n",
    "%matplotlib inline"
   ]
  },
  {
   "cell_type": "code",
   "execution_count": 9,
   "metadata": {},
   "outputs": [],
   "source": [
    "seed=12312312\n",
    "kappa=1e5\n",
    "size = 6\n",
    "np.random.seed(seed)"
   ]
  },
  {
   "cell_type": "code",
   "execution_count": 33,
   "metadata": {},
   "outputs": [
    {
     "name": "stdout",
     "output_type": "stream",
     "text": [
      "_________________________________________________________________\n",
      "Layer (type)                 Output Shape              Param #   \n",
      "=================================================================\n",
      "dense_5 (Dense)              (None, 6)                 36        \n",
      "_________________________________________________________________\n",
      "dense_6 (Dense)              (None, 10)                60        \n",
      "=================================================================\n",
      "Total params: 96\n",
      "Trainable params: 96\n",
      "Non-trainable params: 0\n",
      "_________________________________________________________________\n"
     ]
    }
   ],
   "source": [
    "model = models.Sequential()\n",
    "model.add(layers.Dense(6, input_shape=(6,), use_bias=False))\n",
    "model.add(layers.Dense(10, use_bias=False))\n",
    "model.summary()"
   ]
  },
  {
   "cell_type": "code",
   "execution_count": 37,
   "metadata": {},
   "outputs": [
    {
     "name": "stdout",
     "output_type": "stream",
     "text": [
      "(10, 6)\n",
      "(100000, 6)\n",
      "(100000, 10)\n"
     ]
    }
   ],
   "source": [
    "x = np.random.uniform(1, kappa, [6])\n",
    "Atrue = np.linspace(1, 1e-3, 10).reshape(-1,1)* np.random.rand(10,6)\n",
    "print(Atrue.shape)\n",
    "\n",
    "nsamples=100000\n",
    "X = np.random.randn(nsamples, 6)\n",
    "print(X.shape)\n",
    "Ytrue = np.matrix.transpose(Atrue.dot(np.matrix.transpose(X)))\n",
    "print(Ytrue.shape)\n",
    "\n",
    "#y = np.random.uniform(1, kappa,  [10])"
   ]
  },
  {
   "cell_type": "code",
   "execution_count": null,
   "metadata": {},
   "outputs": [
    {
     "name": "stdout",
     "output_type": "stream",
     "text": [
      "Epoch 1/100\n",
      "100000/100000 [==============================] - 4s 41us/step - loss: 0.4076\n",
      "Epoch 2/100\n",
      "100000/100000 [==============================] - 4s 41us/step - loss: 0.1407\n",
      "Epoch 3/100\n",
      "100000/100000 [==============================] - 4s 40us/step - loss: 0.0608\n",
      "Epoch 4/100\n",
      "100000/100000 [==============================] - 4s 41us/step - loss: 0.0326\n",
      "Epoch 5/100\n",
      "100000/100000 [==============================] - 4s 41us/step - loss: 0.0203\n",
      "Epoch 6/100\n",
      "100000/100000 [==============================] - 4s 41us/step - loss: 0.0133\n",
      "Epoch 7/100\n",
      " 57664/100000 [================>.............] - ETA: 1s - loss: 0.0098"
     ]
    }
   ],
   "source": [
    "sgd = optimizers.SGD(lr=1e-3)\n",
    "model.compile(optimizer=sgd, loss='mse')\n",
    "#model.fit(x=np.reshape(x, (1, size)), y=np.reshape(y, (1, 10)), epochs=10)\n",
    "model.fit(X, Ytrue, epochs=100)\n"
   ]
  },
  {
   "cell_type": "code",
   "execution_count": null,
   "metadata": {},
   "outputs": [],
   "source": []
  }
 ],
 "metadata": {
  "kernelspec": {
   "display_name": "Python 3",
   "language": "python",
   "name": "python3"
  },
  "language_info": {
   "codemirror_mode": {
    "name": "ipython",
    "version": 3
   },
   "file_extension": ".py",
   "mimetype": "text/x-python",
   "name": "python",
   "nbconvert_exporter": "python",
   "pygments_lexer": "ipython3",
   "version": "3.5.2"
  }
 },
 "nbformat": 4,
 "nbformat_minor": 2
}
