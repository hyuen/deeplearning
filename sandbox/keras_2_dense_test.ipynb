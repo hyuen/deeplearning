{
 "cells": [
  {
   "cell_type": "code",
   "execution_count": 1,
   "metadata": {},
   "outputs": [
    {
     "name": "stderr",
     "output_type": "stream",
     "text": [
      "Using TensorFlow backend.\n"
     ]
    }
   ],
   "source": [
    "import tensorflow\n",
    "from scipy.optimize import root\n",
    "import numpy as np\n",
    "import matplotlib.pyplot as plt\n",
    "from scipy.spatial import distance\n",
    "from keras import models, optimizers, layers\n",
    "\n",
    "%matplotlib inline"
   ]
  },
  {
   "cell_type": "code",
   "execution_count": 2,
   "metadata": {},
   "outputs": [],
   "source": [
    "seed=12312312\n",
    "np.random.seed(seed)\n",
    "\n",
    "xdim=6\n",
    "wdim=6\n",
    "ydim=10\n",
    "condition_number=1e-5\n",
    "\n",
    "nsamples=100000"
   ]
  },
  {
   "cell_type": "code",
   "execution_count": 3,
   "metadata": {},
   "outputs": [
    {
     "name": "stdout",
     "output_type": "stream",
     "text": [
      "_________________________________________________________________\n",
      "Layer (type)                 Output Shape              Param #   \n",
      "=================================================================\n",
      "dense_1 (Dense)              (None, 6)                 36        \n",
      "_________________________________________________________________\n",
      "dense_2 (Dense)              (None, 10)                60        \n",
      "=================================================================\n",
      "Total params: 96\n",
      "Trainable params: 96\n",
      "Non-trainable params: 0\n",
      "_________________________________________________________________\n"
     ]
    }
   ],
   "source": [
    "model = models.Sequential()\n",
    "model.add(layers.Dense(wdim, input_shape=(xdim,), use_bias=False))\n",
    "model.add(layers.Dense(ydim, use_bias=False))\n",
    "model.summary()"
   ]
  },
  {
   "cell_type": "code",
   "execution_count": null,
   "metadata": {},
   "outputs": [
    {
     "name": "stdout",
     "output_type": "stream",
     "text": [
      "(10, 6)\n",
      "(100000, 6)\n",
      "(100000, 10)\n"
     ]
    }
   ],
   "source": [
    "Atrue = np.linspace(1, condition_number, ydim).reshape(-1,1)* np.random.rand(ydim, xdim)\n",
    "print(Atrue.shape)\n",
    "\n",
    "X = np.random.randn(nsamples, xdim)\n",
    "print(X.shape)\n",
    "Ytrue = np.matrix.transpose(Atrue.dot(np.matrix.transpose(X)))\n",
    "print(Ytrue.shape)"
   ]
  },
  {
   "cell_type": "code",
   "execution_count": null,
   "metadata": {},
   "outputs": [
    {
     "name": "stdout",
     "output_type": "stream",
     "text": [
      "Epoch 1/10\n",
      "100000/100000 [==============================] - 6s 55us/step - loss: 0.5472\n",
      "Epoch 2/10\n",
      "100000/100000 [==============================] - 4s 41us/step - loss: 0.1043\n",
      "Epoch 3/10\n",
      "100000/100000 [==============================] - 4s 40us/step - loss: 0.0562\n",
      "Epoch 4/10\n",
      "100000/100000 [==============================] - 4s 43us/step - loss: 0.0368\n",
      "Epoch 5/10\n",
      "100000/100000 [==============================] - 4s 40us/step - loss: 0.0249\n",
      "Epoch 6/10\n",
      " 61344/100000 [=================>............] - ETA: 1s - loss: 0.0183"
     ]
    }
   ],
   "source": [
    "sgd = optimizers.SGD(lr=1e-3)\n",
    "model.compile(optimizer=sgd, loss='mse')\n",
    "model.fit(X, Ytrue, epochs=10)\n"
   ]
  },
  {
   "cell_type": "code",
   "execution_count": null,
   "metadata": {},
   "outputs": [],
   "source": []
  }
 ],
 "metadata": {
  "kernelspec": {
   "display_name": "Python 3",
   "language": "python",
   "name": "python3"
  },
  "language_info": {
   "codemirror_mode": {
    "name": "ipython",
    "version": 3
   },
   "file_extension": ".py",
   "mimetype": "text/x-python",
   "name": "python",
   "nbconvert_exporter": "python",
   "pygments_lexer": "ipython3",
   "version": "3.5.2"
  }
 },
 "nbformat": 4,
 "nbformat_minor": 2
}
