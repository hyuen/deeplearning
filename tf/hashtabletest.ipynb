{
 "cells": [
  {
   "cell_type": "code",
   "execution_count": 13,
   "metadata": {},
   "outputs": [],
   "source": [
    "import tensorflow as tf\n",
    "from  tensorflow.contrib.lookup import MutableHashTable\n",
    "from tensorflow.python.framework import constant_op\n",
    "from tensorflow.python.framework import dtypes\n",
    "import numpy as np\n",
    "import pandas as pd\n",
    "from sklearn.datasets import load_digits\n",
    "from sklearn.metrics.pairwise import cosine_distances\n",
    "import matplotlib.pyplot as plt\n",
    "%matplotlib inline\n"
   ]
  },
  {
   "cell_type": "code",
   "execution_count": 43,
   "metadata": {},
   "outputs": [
    {
     "name": "stdout",
     "output_type": "stream",
     "text": [
      "(1797, 64)\n",
      "(1797,)\n"
     ]
    }
   ],
   "source": [
    "digits, target = load_digits(return_X_y=True)\n",
    "\n",
    "print digits.shape\n",
    "print target.shape"
   ]
  },
  {
   "cell_type": "code",
   "execution_count": 47,
   "metadata": {},
   "outputs": [
    {
     "data": {
      "text/plain": [
       "(64,)"
      ]
     },
     "execution_count": 47,
     "metadata": {},
     "output_type": "execute_result"
    }
   ],
   "source": [
    "digits[0,:].shape"
   ]
  },
  {
   "cell_type": "code",
   "execution_count": 53,
   "metadata": {},
   "outputs": [
    {
     "data": {
      "text/plain": [
       "<matplotlib.figure.Figure at 0x7fcc247cb490>"
      ]
     },
     "metadata": {},
     "output_type": "display_data"
    },
    {
     "data": {
      "image/png": "[encoded data removed]",
      "text/plain": [
       "<matplotlib.figure.Figure at 0x7fcc246a2050>"
      ]
     },
     "metadata": {},
     "output_type": "display_data"
    }
   ],
   "source": [
    "plt.gray()\n",
    "plt.matshow(np.expand_dims(digits[0], axis=0))\n",
    "plt.show()"
   ]
  },
  {
   "cell_type": "code",
   "execution_count": 54,
   "metadata": {
    "collapsed": true
   },
   "outputs": [],
   "source": [
    "def compute_signature(vec, rand_proj): \n",
    "    signature = 0\n",
    "    projections = np.dot(vec, rand_proj)\n",
    "    \n",
    "    for proj in projections:\n",
    "        signature <<= 1\n",
    "        \n",
    "        if proj >= 0:\n",
    "            signature |= 1\n",
    "            \n",
    "    return signature"
   ]
  },
  {
   "cell_type": "code",
   "execution_count": 58,
   "metadata": {},
   "outputs": [],
   "source": [
    "signature_length = 10  # This is a parameter of SRP. Commonly referred to as `d` or `D` in papers.\n",
    "rand_proj = np.random.normal(size=(digits.shape[1], signature_length))\n",
    "#print rand_proj.shape, rand_proj\n",
    "hash_table = {}\n",
    "\n",
    "for d in digits[1:]:\n",
    "    hash_signature = compute_signature(d, rand_proj)\n",
    "    matches = hash_table.setdefault(hash_signature, [])\n",
    "    matches.append(d)"
   ]
  },
  {
   "cell_type": "code",
   "execution_count": 93,
   "metadata": {},
   "outputs": [],
   "source": [
    "inp= tf.placeholder(tf.float32, shape=(64))\n",
    "inp2 = tf.placeholder(tf.float32, shape=(64,10))\n",
    "yh = tf.py_func(compute_signature, [inp, inp2], tf.int64)"
   ]
  },
  {
   "cell_type": "code",
   "execution_count": 94,
   "metadata": {},
   "outputs": [
    {
     "name": "stdout",
     "output_type": "stream",
     "text": [
      "(64,) (64, 10)\n"
     ]
    },
    {
     "data": {
      "text/plain": [
       "[-7.3626639662165898,\n",
       " 27.544014193876592,\n",
       " -46.294339545489692,\n",
       " 57.950895916378933,\n",
       " -17.819117131272986,\n",
       " 62.287229153627315,\n",
       " -68.709285373595037,\n",
       " 0.78184702916000859,\n",
       " -55.781885200863641,\n",
       " 18.052247864219684]"
      ]
     },
     "execution_count": 94,
     "metadata": {},
     "output_type": "execute_result"
    }
   ],
   "source": [
    "p = np.dot(digits[1:][0], rand_proj)\n",
    "print digits[1:][0].shape, rand_proj.shape\n",
    "p.shape\n",
    "[p1 for p1 in p]"
   ]
  },
  {
   "cell_type": "code",
   "execution_count": 96,
   "metadata": {},
   "outputs": [],
   "source": [
    "with tf.Session() as session:\n",
    "    tf.tables_initializer().run()\n",
    "    tf.global_variables_initializer().run()\n",
    "    ht = MutableHashTable(key_dtype=tf.string, value_dtype=tf.int64, default_value=66)\n",
    "    key = constant_op.constant(['key'])\n",
    "    value = constant_op.constant([42], dtype=dtypes.int64)\n",
    "    session.run(ht.insert(key, value))\n",
    "    v = session.run(ht.lookup(key))\n",
    "    ret = session.run(yh, feed_dict={inp: digits[1:][0], inp2:rand_proj})"
   ]
  },
  {
   "cell_type": "code",
   "execution_count": 97,
   "metadata": {},
   "outputs": [
    {
     "data": {
      "text/plain": [
       "341"
      ]
     },
     "execution_count": 97,
     "metadata": {},
     "output_type": "execute_result"
    }
   ],
   "source": [
    "ret"
   ]
  },
  {
   "cell_type": "code",
   "execution_count": 4,
   "metadata": {},
   "outputs": [
    {
     "name": "stdout",
     "output_type": "stream",
     "text": [
      "[42]\n"
     ]
    }
   ],
   "source": [
    "print v"
   ]
  },
  {
   "cell_type": "code",
   "execution_count": null,
   "metadata": {},
   "outputs": [],
   "source": []
  },
  {
   "cell_type": "code",
   "execution_count": null,
   "metadata": {},
   "outputs": [],
   "source": []
  },
  {
   "cell_type": "code",
   "execution_count": null,
   "metadata": {
    "collapsed": true
   },
   "outputs": [],
   "source": []
  },
  {
   "cell_type": "code",
   "execution_count": null,
   "metadata": {
    "collapsed": true
   },
   "outputs": [],
   "source": []
  }
 ],
 "metadata": {
  "kernelspec": {
   "display_name": "Python 2",
   "language": "python",
   "name": "python2"
  },
  "language_info": {
   "codemirror_mode": {
    "name": "ipython",
    "version": 2
   },
   "file_extension": ".py",
   "mimetype": "text/x-python",
   "name": "python",
   "nbconvert_exporter": "python",
   "pygments_lexer": "ipython2",
   "version": "2.7.12"
  }
 },
 "nbformat": 4,
 "nbformat_minor": 2
}
